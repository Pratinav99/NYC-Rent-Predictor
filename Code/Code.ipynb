{
 "cells": [
  {
   "cell_type": "markdown",
   "metadata": {
    "tags": []
   },
   "source": [
    "## DAB200 -- Project 1\n",
    "\n",
    "**Overall Objective**: Create a model that predicts rent prices as well as possible for typical New York City apartments."
   ]
  },
  {
   "cell_type": "markdown",
   "metadata": {
    "tags": []
   },
   "source": [
    "### Part 0\n",
    "\n",
    "Please provide the following information:\n",
    " - Group Number 07: \n",
    "     - Pratinav Jinwal (0828975)\n",
    "\n",
    "     "
   ]
  },
  {
   "cell_type": "markdown",
   "metadata": {
    "tags": []
   },
   "source": [
    "### Part 1 - Create and evaluate an initial model\n",
    "\n"
   ]
  },
  {
   "cell_type": "code",
   "execution_count": 8,
   "metadata": {},
   "outputs": [],
   "source": [
    "# !pip install pandas\n",
    "import pandas as pd\n",
    "import numpy as np\n",
    "import matplotlib.pyplot as plt\n"
   ]
  },
  {
   "cell_type": "code",
   "execution_count": 9,
   "metadata": {},
   "outputs": [],
   "source": [
    "p = pd.read_csv('C:\\\\Users\\\\Pratinav jinwal\\\\OneDrive\\\\Desktop\\\\ML\\\\graded lab 1\\\\rent_7.csv')\n"
   ]
  },
  {
   "cell_type": "code",
   "execution_count": 10,
   "metadata": {},
   "outputs": [],
   "source": [
    "df_p = p[['bathrooms', 'bedrooms', 'longitude', 'latitude', 'price']]"
   ]
  },
  {
   "cell_type": "code",
   "execution_count": 11,
   "metadata": {},
   "outputs": [
    {
     "name": "stdout",
     "output_type": "stream",
     "text": [
      "bathrooms    False\n",
      "bedrooms     False\n",
      "longitude    False\n",
      "latitude     False\n",
      "price        False\n",
      "dtype: bool\n"
     ]
    }
   ],
   "source": [
    "print(df_p.isnull().any())"
   ]
  },
  {
   "cell_type": "code",
   "execution_count": 12,
   "metadata": {},
   "outputs": [],
   "source": [
    " from sklearn.ensemble import RandomForestRegressor"
   ]
  },
  {
   "cell_type": "code",
   "execution_count": 13,
   "metadata": {},
   "outputs": [
    {
     "name": "stdout",
     "output_type": "stream",
     "text": [
      "\n",
      "Average OOB score: -0.0058\n"
     ]
    }
   ],
   "source": [
    "X, y = df_p.drop('price', axis=1), df_p['price']\n",
    "clean_error = []\n",
    "for i in range(10):\n",
    "    rf = RandomForestRegressor(n_estimators=100, n_jobs=-1,oob_score=True)\n",
    "    rf.fit(X, y)\n",
    "    clean_oob_r2 = rf.oob_score_\n",
    "    clean_error.append(clean_oob_r2)\n",
    "    \n",
    "print(f\"\\nAverage OOB score: {np.mean(clean_error):.4f}\")"
   ]
  },
  {
   "cell_type": "markdown",
   "metadata": {},
   "source": [
    "#### Explanation \n",
    "\n"
   ]
  },
  {
   "cell_type": "markdown",
   "metadata": {},
   "source": [
    "Step 1- Initially we imported the dataset and took numeric values (bathrooms,bedrooms,latitude,longitude and price).\n",
    "Step 2- We took isnull function so that we can check that is there any null values in the column or not because null values are not needed in our pridictions.\n",
    "Step 3- We dropped the price feature from x and assigned price to y so that we can make predictions of price as a target feature.\n",
    "Step 3- We stored our features excluding price in x and stored the target features price in y.\n",
    "Step 4- Furthermore, we used RandomForestRegressor because we have to do regression so that we can make predictions for numeric data. We did not used classification because in classification we use it for categorical values which are not relevent here.\n",
    "Step 5- We used n_estimators=100 so that it can give us 100 decision trees and n_jobs=-1 which will use all the processing power and oob score is true because our model uses out of bag samples.\n",
    "Step 7- Later we used rf.fit and assigned X and y in it so that we can fit them into our model.\n",
    "Step 8- Now we assigned oob score to oob r2(r square), took the mean and ran the model 10 times and got an average oob score of \"-0.0058\"."
   ]
  },
  {
   "cell_type": "markdown",
   "metadata": {},
   "source": [
    "### Part 2 - Denoise the data\n",
    "\n",
    "This section should only include the code necessary to **denoise** the data, NOT the code necessary to identify inconsistencies, problems, errors, etc. in the data. \n",
    "\n"
   ]
  },
  {
   "cell_type": "code",
   "execution_count": 14,
   "metadata": {},
   "outputs": [
    {
     "data": {
      "text/plain": [
       "(17050, 5)"
      ]
     },
     "execution_count": 14,
     "metadata": {},
     "output_type": "execute_result"
    }
   ],
   "source": [
    "df_cleaned = df_p\n",
    "df_cleaned = df_cleaned[(df_cleaned.longitude!=0) | (df_cleaned.latitude!=0)]\n",
    "denoised_rent = df_cleaned[(df_cleaned.latitude>=40.5795) & (df_cleaned.latitude<=40.8448) & (df_cleaned.longitude<=-73.7949) & (df_cleaned.longitude>=-74.1502)]\n",
    "denoised_rent = denoised_rent.loc[(denoised_rent.bathrooms != 0) | (denoised_rent.bedrooms != 0)]\n",
    "d_rent = denoised_rent[(denoised_rent.price > 1800) & (denoised_rent.price < 14000)]\n",
    "d_rent = d_rent.loc[d_rent.bedrooms <= 4]\n",
    "d_rent.shape"
   ]
  },
  {
   "cell_type": "markdown",
   "metadata": {},
   "source": [
    "### Part 3 - Create and evaluate a final model\n",
    "\n"
   ]
  },
  {
   "cell_type": "code",
   "execution_count": 15,
   "metadata": {},
   "outputs": [
    {
     "name": "stdout",
     "output_type": "stream",
     "text": [
      "\n",
      "Average OOB score: 0.8058\n"
     ]
    }
   ],
   "source": [
    "X, y = d_rent.drop('price', axis=1), d_rent['price']\n",
    "clean_error = []\n",
    "for i in range(10):\n",
    "    rf = RandomForestRegressor(n_estimators=100, n_jobs=-1,oob_score=True)\n",
    "    rf.fit(X, y)\n",
    "    clean_oob_r2 = rf.oob_score_\n",
    "    clean_error.append(clean_oob_r2)\n",
    "    \n",
    "print(f\"\\nAverage OOB score: {np.mean(clean_error):.4f}\")"
   ]
  },
  {
   "cell_type": "markdown",
   "metadata": {},
   "source": [
    "#### Explanation \n",
    "\n",
    "Please provide an explanation and justification for the code submitted in **Part 3** in the context of the overall objective. "
   ]
  },
  {
   "cell_type": "markdown",
   "metadata": {},
   "source": [
    "Step 1- We Built our Final model using rent_clean denoised dataset.\n",
    "Step 2- Stored our features excluding price in x and stored the target features price in y.\n",
    "Step 3- We took an empty list as clean_error and after that used for loop with a range of 10 so that it can get average oob score.\n",
    "Step 4- Used ramdomforestregressor to make predictions and n_estimators=100 so that it can give us 100 decision trees and n_jobs=-1 which will use all the processing power and oob score is true because our model uses out of bag samples.\n",
    "Step 5- In the end we printed the average oob score.\n"
   ]
  },
  {
   "cell_type": "markdown",
   "metadata": {},
   "source": [
    "### Part 4 - Document the problems\n",
    "\n",
    "In this part, please use the table below to document your understanding of all the data issues you discovered. Note that **no code** should be included, as that should be covered in **Part 2**. Also, note that even if one line of code fixed a few problems, you should list each problem separately in the table below, so be sure you have investigated the data properly. For example, if the list `[-6, 5, 0, 50]` represents heights of adults, the -6, 0, and 50 would represent three data issues to be included in the table below, even though one line of code may be able to address all of them. \n",
    "\n",
    "| Data issue discovered | Why is this a problem? | How did you fix it? | Why is this fix appropriate? |\n",
    "| :- | :- | :- | :- | \n",
    "|  Price with negative value           | Our dataset includes observations with negative price value.As this is not a possible scenario so we have to remove such values as per the cleaning process.   | Removed negative Target values from the dataset. |   To ensure that the data has all possible values for the price of apartments |\n",
    "|  latitude and longitude with 0 value | example explanation As both of them are 0 whihc reflects that they are outside Newyork city. |   Removed the rows which had 0 longitude and latitude. | To filter out the outliers.\n",
    "|  bedroom count above 4              | If we are concerdering appartments so as per Newyork city if there are more than 4 bedrooms in an appartments then it is not concerdered as an appartments it is an penthouse.    | Removed the rows where the bedrooms count were above 4. | To filter out the outliers.|\n",
    "|  latitude range above 40.5795        | As we have some appartment's location outside Newyork city we have to filter our latitude range to cutshot the data for only Newyork city appartments.   | Putting minimum range to filter out the rows. | To filter out the outliers.   |\n",
    "|  latitude range below 40.8448        |As we have some appartment's location outside Newyork city we have to filter our latitude range to cutshot the data for only Newyork city appartments.   |Putting maximum range to filter out the rows.|To filter out the outliers.\n",
    "|  longitude range below -73.7949      | As we have some appartment's location outside Newyork city we have to filter our longitude range to cutshot the data for only Newyork city appartments. |Putting maximum range to filter out the rows.|To filter out the outliers.\n",
    "|  longitude range above -74.1502      | As we have some appartment's location outside Newyork city we have to filter our longitude range to cutshot the data for only Newyork city appartments.|Putting minimum range to filter out the rows.|To filter out the outliers.\n",
    "\n",
    "\n",
    "\n",
    "\n",
    "\n"
   ]
  }
 ],
 "metadata": {
  "kernelspec": {
   "display_name": "Python 3 (ipykernel)",
   "language": "python",
   "name": "python3"
  },
  "language_info": {
   "codemirror_mode": {
    "name": "ipython",
    "version": 3
   },
   "file_extension": ".py",
   "mimetype": "text/x-python",
   "name": "python",
   "nbconvert_exporter": "python",
   "pygments_lexer": "ipython3",
   "version": "3.10.9"
  }
 },
 "nbformat": 4,
 "nbformat_minor": 4
}
